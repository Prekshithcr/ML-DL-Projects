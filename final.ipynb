{
  "cells": [
    {
      "cell_type": "markdown",
      "metadata": {
        "id": "Wf5KrEb6vrkR"
      },
      "source": [
        "<div class=\"markdown-google-sans\">\n",
        "  <h1>Welcome to Colab!</h1>\n",
        "</div>\n",
        "\n",
        "<div class=\"markdown-google-sans\">\n",
        "  <h2>Explore the Gemini API</h2>\n",
        "  <p>The Gemini API gives you access to Gemini models created by Google DeepMind. Gemini models are built from the ground up to be multimodal, so you can reason seamlessly across text, images, code, and audio.\n",
        "  </p>\n",
        "  <strong>How to get started</strong>\n",
        "    <ol>\n",
        "      <li>Go to <a href=\"https://aistudio.google.com/\">Google AI Studio</a> and log in with your Google account.</li>\n",
        "      <li><a href=\"https://aistudio.google.com/app/apikey\">Create an API key</a>.</li>\n",
        "      <li>Use a quickstart for <a href=\"https://colab.research.google.com/github/google-gemini/cookbook/blob/main/quickstarts/Prompting.ipynb\">Python</a>, or call the REST API using <a href=\"https://colab.research.google.com/github/google-gemini/cookbook/blob/main/quickstarts/rest/Prompting_REST.ipynb\">curl</a>.</li>\n",
        "      </ol>\n",
        "  <strong>Explore use cases</strong>\n",
        "    <ul>\n",
        "      <li><a href=\"https://colab.research.google.com/github/google-gemini/cookbook/blob/main/examples/Market_a_Jet_Backpack.ipynb\">Create a marketing campaign</a></li>\n",
        "      <li><a href=\"https://colab.research.google.com/github/google-gemini/cookbook/blob/main/quickstarts/Audio.ipynb\">Analyze audio recordings</a></li>\n",
        "      <li><a href=\"https://colab.research.google.com/github/google-gemini/cookbook/blob/main/quickstarts/System_instructions.ipynb\">Use System instructions in chat</a></li>\n",
        "    </ul>\n",
        "  <p>To learn more, check out the <a href=\"https://github.com/google-gemini/cookbook\">Gemini cookbook</a> or visit the <a href=\"https://ai.google.dev/docs/\">Gemini API documentation</a>.\n",
        "  </p>\n",
        "</div>\n"
      ]
    },
    {
      "cell_type": "code",
      "execution_count": null,
      "metadata": {
        "id": "SXQShP44t5Ym"
      },
      "outputs": [],
      "source": [
        "import os\n",
        "import cv2\n",
        "import numpy as np\n",
        "import tensorflow as tf\n",
        "from keras.models import Sequential, load_model\n",
        "from keras.layers import Conv3D, MaxPooling3D, Flatten, Dense, Dropout\n",
        "from keras.utils import to_categorical\n",
        "from sklearn.model_selection import train_test_split\n",
        "import matplotlib.pyplot as plt\n",
        "import smtplib\n",
        "from email.mime.text import MIMEText\n",
        "from email.mime.multipart import MIMEMultipart"
      ]
    },
    {
      "cell_type": "code",
      "execution_count": null,
      "metadata": {
        "colab": {
          "base_uri": "https://localhost:8080/"
        },
        "id": "-2RGlO3yt8In",
        "outputId": "3abdfaf8-8c84-42de-e555-c5f5375194a7"
      },
      "outputs": [
        {
          "name": "stdout",
          "output_type": "stream",
          "text": [
            "Drive already mounted at /content/drive; to attempt to forcibly remount, call drive.mount(\"/content/drive\", force_remount=True).\n"
          ]
        }
      ],
      "source": [
        "# Mount Google Drive\n",
        "from google.colab import drive\n",
        "drive.mount('/content/drive')"
      ]
    },
    {
      "cell_type": "code",
      "execution_count": null,
      "metadata": {
        "id": "Hy0ssu3duBwc"
      },
      "outputs": [],
      "source": [
        "# Define paths\n",
        "zip_file_path = '/content/drive/MyDrive/video activity.zip'\n",
        "extracted_folder_path = '/content/drive/MyDrive/datasetvideo'"
      ]
    },
    {
      "cell_type": "code",
      "execution_count": null,
      "metadata": {
        "id": "OmJHUJzzugrc"
      },
      "outputs": [],
      "source": [
        "# Extract dataset\n",
        "import zipfile\n",
        "os.makedirs(extracted_folder_path, exist_ok=True)\n",
        "with zipfile.ZipFile(zip_file_path, 'r') as zip_ref:\n",
        "    zip_ref.extractall(extracted_folder_path)"
      ]
    },
    {
      "cell_type": "code",
      "execution_count": null,
      "metadata": {
        "id": "7RJ9veS9unHR"
      },
      "outputs": [],
      "source": [
        "# Constants\n",
        "frames_per_video = 16\n",
        "height, width, channels = 64, 64, 3\n",
        "input_shape = (frames_per_video, height, width, channels)\n",
        "num_classes = 2\n",
        "batch_size = 32\n",
        "epochs = 20"
      ]
    },
    {
      "cell_type": "code",
      "execution_count": null,
      "metadata": {
        "id": "Alzq50HvurTl"
      },
      "outputs": [],
      "source": [
        "# Function to preprocess video frames\n",
        "def preprocess_video(video_path):\n",
        "    frames = []\n",
        "    cap = cv2.VideoCapture(video_path)\n",
        "    frame_count = 0\n",
        "\n",
        "    while True:\n",
        "        ret, frame = cap.read()\n",
        "        if not ret:\n",
        "            break\n",
        "        frame = cv2.resize(frame, (width, height))\n",
        "        frames.append(frame)\n",
        "        frame_count += 1\n",
        "        if frame_count == frames_per_video:\n",
        "            break\n",
        "    cap.release()\n",
        "\n",
        "    frames = np.array(frames)\n",
        "    if len(frames) < frames_per_video:\n",
        "        frames = np.pad(frames, ((0, frames_per_video - len(frames)), (0, 0), (0, 0), (0, 0)), 'constant')\n",
        "    return frames"
      ]
    },
    {
      "cell_type": "code",
      "execution_count": null,
      "metadata": {
        "id": "mEjpZRYNuvZ8"
      },
      "outputs": [],
      "source": [
        "# Function to load data from folders\n",
        "def load_data_from_folder(class_folder, class_name):\n",
        "    videos = []\n",
        "    labels = []\n",
        "\n",
        "    for video_name in os.listdir(class_folder):\n",
        "        video_path = os.path.join(class_folder, video_name)\n",
        "        frames = preprocess_video(video_path)\n",
        "        if frames.shape[0] == frames_per_video:\n",
        "            videos.append(frames)\n",
        "            labels.append(class_name)\n",
        "\n",
        "    return np.array(videos), np.array(labels)"
      ]
    },
    {
      "cell_type": "code",
      "execution_count": null,
      "metadata": {
        "id": "ChviBwoNu_HO"
      },
      "outputs": [],
      "source": [
        "# Load dataset\n",
        "data_folder = '/content/drive/MyDrive/datasetvideo'\n",
        "normal_videos_folder = os.path.join(data_folder, 'normal activity')\n",
        "abnormal_videos_folder = os.path.join(data_folder, 'abnormal activity')\n",
        "\n",
        "normal_videos, normal_labels = load_data_from_folder(normal_videos_folder, 0)\n",
        "abnormal_videos, abnormal_labels = load_data_from_folder(abnormal_videos_folder, 1)\n",
        "\n"
      ]
    },
    {
      "cell_type": "code",
      "execution_count": null,
      "metadata": {
        "colab": {
          "base_uri": "https://localhost:8080/",
          "height": 410
        },
        "id": "mPOHaj9xvCmF",
        "outputId": "8bdc5f6e-5c38-4369-8ce6-16ca1395d8d0"
      },
      "outputs": [
        {
          "data": {
            "image/png": "[encoded data removed]",
            "text/plain": [
              "<Figure size 600x400 with 1 Axes>"
            ]
          },
          "metadata": {},
          "output_type": "display_data"
        }
      ],
      "source": [
        "# Plot data distribution\n",
        "class_labels = ['Normal', 'Abnormal']\n",
        "class_counts = [len(normal_videos), len(abnormal_videos)]\n",
        "plt.figure(figsize=(6, 4))\n",
        "plt.bar(class_labels, class_counts)\n",
        "plt.xlabel('Video Class')\n",
        "plt.ylabel('Number of Videos')\n",
        "plt.title('Comparison of Normal and Abnormal Videos')\n",
        "plt.show()"
      ]
    },
    {
      "cell_type": "code",
      "execution_count": null,
      "metadata": {
        "id": "o6nhqQQpvFxn"
      },
      "outputs": [],
      "source": [
        "# Prepare data\n",
        "videos = np.concatenate((normal_videos, abnormal_videos), axis=0)\n",
        "labels = np.concatenate((normal_labels, abnormal_labels), axis=0)\n",
        "labels = to_categorical(labels, num_classes=num_classes)\n",
        "\n",
        "x_train, x_test, y_train, y_test = train_test_split(videos, labels, test_size=0.2, random_state=42)"
      ]
    },
    {
      "cell_type": "code",
      "execution_count": null,
      "metadata": {
        "id": "VidWmoQyvMdr"
      },
      "outputs": [],
      "source": [
        "# Build model\n",
        "model = Sequential()\n",
        "model.add(Conv3D(32, kernel_size=(3, 3, 3), activation='relu', input_shape=input_shape))\n",
        "model.add(MaxPooling3D(pool_size=(2, 2, 2)))\n",
        "model.add(Conv3D(64, kernel_size=(3, 3, 3), activation='relu'))\n",
        "model.add(MaxPooling3D(pool_size=(2, 2, 2)))\n",
        "model.add(Flatten())\n",
        "model.add(Dense(128, activation='relu'))\n",
        "model.add(Dropout(0.5))\n",
        "model.add(Dense(num_classes, activation='softmax'))\n",
        "\n",
        "model.compile(optimizer='adam', loss='categorical_crossentropy', metrics=['accuracy'])"
      ]
    },
    {
      "cell_type": "code",
      "execution_count": null,
      "metadata": {
        "colab": {
          "background_save": true,
          "base_uri": "https://localhost:8080/"
        },
        "id": "D9pUH2sVvPji",
        "outputId": "abee9ba1-0f15-476a-cea5-9bf458367785"
      },
      "outputs": [
        {
          "name": "stdout",
          "output_type": "stream",
          "text": [
            "Epoch 1/20\n",
            "\u001b[1m2/2\u001b[0m \u001b[32m━━━━━━━━━━━━━━━━━━━━\u001b[0m\u001b[37m\u001b[0m \u001b[1m19s\u001b[0m 5s/step - accuracy: 0.5385 - loss: 59.0030 - val_accuracy: 0.6154 - val_loss: 351.2681\n",
            "Epoch 2/20\n",
            "\u001b[1m2/2\u001b[0m \u001b[32m━━━━━━━━━━━━━━━━━━━━\u001b[0m\u001b[37m\u001b[0m \u001b[1m20s\u001b[0m 7s/step - accuracy: 0.6442 - loss: 223.5305 - val_accuracy: 0.3846 - val_loss: 57.2426\n",
            "Epoch 3/20\n",
            "\u001b[1m2/2\u001b[0m \u001b[32m━━━━━━━━━━━━━━━━━━━━\u001b[0m\u001b[37m\u001b[0m \u001b[1m12s\u001b[0m 6s/step - accuracy: 0.4255 - loss: 45.1933 - val_accuracy: 0.6154 - val_loss: 2.9890\n",
            "Epoch 4/20\n",
            "\u001b[1m2/2\u001b[0m \u001b[32m━━━━━━━━━━━━━━━━━━━━\u001b[0m\u001b[37m\u001b[0m \u001b[1m21s\u001b[0m 5s/step - accuracy: 0.6418 - loss: 2.2272 - val_accuracy: 0.7692 - val_loss: 1.0052\n",
            "Epoch 5/20\n",
            "\u001b[1m2/2\u001b[0m \u001b[32m━━━━━━━━━━━━━━━━━━━━\u001b[0m\u001b[37m\u001b[0m \u001b[1m20s\u001b[0m 6s/step - accuracy: 0.6931 - loss: 0.8149 - val_accuracy: 0.6154 - val_loss: 0.9643\n",
            "Epoch 6/20\n",
            "\u001b[1m2/2\u001b[0m \u001b[32m━━━━━━━━━━━━━━━━━━━━\u001b[0m\u001b[37m\u001b[0m \u001b[1m21s\u001b[0m 5s/step - accuracy: 0.8117 - loss: 0.4315 - val_accuracy: 0.6154 - val_loss: 1.0875\n",
            "Epoch 7/20\n",
            "\u001b[1m2/2\u001b[0m \u001b[32m━━━━━━━━━━━━━━━━━━━━\u001b[0m\u001b[37m\u001b[0m \u001b[1m20s\u001b[0m 6s/step - accuracy: 0.8349 - loss: 0.3206 - val_accuracy: 0.4615 - val_loss: 1.5900\n",
            "Epoch 8/20\n",
            "\u001b[1m2/2\u001b[0m \u001b[32m━━━━━━━━━━━━━━━━━━━━\u001b[0m\u001b[37m\u001b[0m \u001b[1m21s\u001b[0m 5s/step - accuracy: 0.8942 - loss: 0.2206 - val_accuracy: 0.5385 - val_loss: 2.4784\n",
            "Epoch 9/20\n",
            "\u001b[1m2/2\u001b[0m \u001b[32m━━━━━━━━━━━━━━━━━━━━\u001b[0m\u001b[37m\u001b[0m \u001b[1m13s\u001b[0m 6s/step - accuracy: 0.9407 - loss: 0.2263 - val_accuracy: 0.3077 - val_loss: 1.8778\n",
            "Epoch 10/20\n",
            "\u001b[1m2/2\u001b[0m \u001b[32m━━━━━━━━━━━━━━━━━━━━\u001b[0m\u001b[37m\u001b[0m \u001b[1m13s\u001b[0m 6s/step - accuracy: 0.9768 - loss: 0.1484 - val_accuracy: 0.3846 - val_loss: 1.8461\n",
            "Epoch 11/20\n",
            "\u001b[1m2/2\u001b[0m \u001b[32m━━━━━━━━━━━━━━━━━━━━\u001b[0m\u001b[37m\u001b[0m \u001b[1m13s\u001b[0m 6s/step - accuracy: 0.8814 - loss: 0.1867 - val_accuracy: 0.4615 - val_loss: 2.0611\n",
            "Epoch 12/20\n",
            "\u001b[1m2/2\u001b[0m \u001b[32m━━━━━━━━━━━━━━━━━━━━\u001b[0m\u001b[37m\u001b[0m \u001b[1m21s\u001b[0m 5s/step - accuracy: 0.9175 - loss: 0.1095 - val_accuracy: 0.3846 - val_loss: 2.2119\n",
            "Epoch 13/20\n",
            "\u001b[1m2/2\u001b[0m \u001b[32m━━━━━━━━━━━━━━━━━━━━\u001b[0m\u001b[37m\u001b[0m \u001b[1m20s\u001b[0m 6s/step - accuracy: 0.9071 - loss: 0.2383 - val_accuracy: 0.3846 - val_loss: 1.9442\n",
            "Epoch 14/20\n",
            "\u001b[1m2/2\u001b[0m \u001b[32m━━━━━━━━━━━━━━━━━━━━\u001b[0m\u001b[37m\u001b[0m \u001b[1m21s\u001b[0m 5s/step - accuracy: 0.9872 - loss: 0.1165 - val_accuracy: 0.3846 - val_loss: 2.0217\n",
            "Epoch 15/20\n",
            "\u001b[1m2/2\u001b[0m \u001b[32m━━━━━━━━━━━━━━━━━━━━\u001b[0m\u001b[37m\u001b[0m \u001b[1m13s\u001b[0m 6s/step - accuracy: 1.0000 - loss: 0.0985 - val_accuracy: 0.3077 - val_loss: 2.6796\n",
            "Epoch 16/20\n",
            "\u001b[1m2/2\u001b[0m \u001b[32m━━━━━━━━━━━━━━━━━━━━\u001b[0m\u001b[37m\u001b[0m \u001b[1m20s\u001b[0m 5s/step - accuracy: 0.9768 - loss: 0.0641 - val_accuracy: 0.4615 - val_loss: 4.4991\n",
            "Epoch 17/20\n",
            "\u001b[1m2/2\u001b[0m \u001b[32m━━━━━━━━━━━━━━━━━━━━\u001b[0m\u001b[37m\u001b[0m \u001b[1m20s\u001b[0m 6s/step - accuracy: 0.9535 - loss: 0.1288 - val_accuracy: 0.3846 - val_loss: 3.7725\n",
            "Epoch 18/20\n",
            "\u001b[1m2/2\u001b[0m \u001b[32m━━━━━━━━━━━━━━━━━━━━\u001b[0m\u001b[37m\u001b[0m \u001b[1m20s\u001b[0m 5s/step - accuracy: 0.9639 - loss: 0.1122 - val_accuracy: 0.4615 - val_loss: 3.9339\n",
            "Epoch 19/20\n",
            "\u001b[1m2/2\u001b[0m \u001b[32m━━━━━━━━━━━━━━━━━━━━\u001b[0m\u001b[37m\u001b[0m \u001b[1m13s\u001b[0m 5s/step - accuracy: 1.0000 - loss: 0.0581 - val_accuracy: 0.3077 - val_loss: 5.1119\n",
            "Epoch 20/20\n",
            "\u001b[1m2/2\u001b[0m \u001b[32m━━━━━━━━━━━━━━━━━━━━\u001b[0m\u001b[37m\u001b[0m \u001b[1m20s\u001b[0m 5s/step - accuracy: 0.9303 - loss: 0.1478 - val_accuracy: 0.3846 - val_loss: 4.1754\n"
          ]
        }
      ],
      "source": [
        "# Train the model\n",
        "with tf.device('/device:GPU:0'):\n",
        "    model.fit(x_train, y_train, batch_size=batch_size, epochs=epochs, validation_data=(x_test, y_test))"
      ]
    },
    {
      "cell_type": "code",
      "execution_count": null,
      "metadata": {
        "colab": {
          "base_uri": "https://localhost:8080/"
        },
        "id": "6rL19k6UvS5z",
        "outputId": "55fa5a8c-baa7-463d-8f3c-5684c3c16cd6"
      },
      "outputs": [
        {
          "name": "stderr",
          "output_type": "stream",
          "text": [
            "WARNING:absl:You are saving your model as an HDF5 file via `model.save()` or `keras.saving.save_model(model)`. This file format is considered legacy. We recommend using instead the native Keras format, e.g. `model.save('my_model.keras')` or `keras.saving.save_model(model, 'my_model.keras')`. \n"
          ]
        }
      ],
      "source": [
        "# Save the model\n",
        "model.save('/content/drive/MyDrive/ATM_theft_prediction_model.h5')"
      ]
    },
    {
      "cell_type": "code",
      "execution_count": null,
      "metadata": {
        "colab": {
          "base_uri": "https://localhost:8080/"
        },
        "id": "qprNaHDW2lC2",
        "outputId": "349d8ad6-8b45-4e24-cd79-cc0197ab114e"
      },
      "outputs": [
        {
          "name": "stderr",
          "output_type": "stream",
          "text": [
            "WARNING:absl:Compiled the loaded model, but the compiled metrics have yet to be built. `model.compile_metrics` will be empty until you train or evaluate the model.\n"
          ]
        }
      ],
      "source": [
        "# Load model for predictions\n",
        "model = load_model(\"/content/drive/MyDrive/ATM_theft_prediction_model.h5\")"
      ]
    },
    {
      "cell_type": "code",
      "execution_count": null,
      "metadata": {
        "id": "IDW6VEKw2q6x"
      },
      "outputs": [],
      "source": [
        "# Function to preprocess test video\n",
        "def preprocess_test_video(video_path):\n",
        "    frames = preprocess_video(video_path)\n",
        "    print(\"Preprocessed frames shape:\", frames.shape)\n",
        "    return frames"
      ]
    },
    {
      "cell_type": "code",
      "execution_count": null,
      "metadata": {
        "id": "8N4u_c4C2t4n"
      },
      "outputs": [],
      "source": [
        "# Function to predict class for a video\n",
        "def predict_video_class(video_frames):\n",
        "    video_frames = np.expand_dims(video_frames, axis=0)\n",
        "    predictions = model.predict(video_frames)\n",
        "    predicted_class = np.argmax(predictions[0])\n",
        "    print(f\"Predicted class: {predicted_class}\")\n",
        "    return predicted_class"
      ]
    },
    {
      "cell_type": "code",
      "execution_count": null,
      "metadata": {
        "id": "Q7d7xtUy2wOw"
      },
      "outputs": [],
      "source": [
        "# Email alert function\n",
        "def send_mail():\n",
        "    server = smtplib.SMTP('smtp.gmail.com', 587)\n",
        "    server.starttls()\n",
        "\n",
        "    sender_email = 'j4543284@gmail.com'\n",
        "    password = 'trnxxwkalvvlycka'\n",
        "    recipient_email = 'cprekshith@gmail.com'\n",
        "    subject = 'ATM Anomaly Alert'\n",
        "    body = \"\"\"Attention Please,\n",
        "    An anomaly has been detected at the ATM located at <ATM_Location>.\n",
        "    Details of the anomaly:\n",
        "    - Date and Time: <Date_and_Time>\n",
        "    - Anomaly Type: <Anomaly_Type>\n",
        "    - Additional Information: <Additional_Information>\n",
        "\n",
        "    Please investigate the situation immediately.\n",
        "\n",
        "    Regards,\n",
        "    Prekshith C R\n",
        "    \"\"\"\n",
        "\n",
        "    body = body.replace(\"<ATM_Location>\", \"Yelahanka, Bengaluru\")\n",
        "    body = body.replace(\"<Date_and_Time>\", \"2023-07-29 12:34:56\")\n",
        "    body = body.replace(\"<Anomaly_Type>\", \"Unauthorized Access\")\n",
        "    body = body.replace(\"<Additional_Information>\", \"Suspicious person trying to access the ATM\")\n",
        "\n",
        "    msg = MIMEMultipart()\n",
        "    msg['From'] = sender_email\n",
        "    msg['To'] = recipient_email\n",
        "    msg['Subject'] = subject\n",
        "    msg.attach(MIMEText(body, 'plain'))\n",
        "\n",
        "    server.login(sender_email, password)\n",
        "    server.sendmail(sender_email, recipient_email, msg.as_string())\n",
        "    server.quit()"
      ]
    },
    {
      "cell_type": "code",
      "execution_count": null,
      "metadata": {
        "colab": {
          "base_uri": "https://localhost:8080/"
        },
        "id": "44NVBPfE22Rx",
        "outputId": "e6b3f350-88bd-4636-9d1c-9fb75f572365"
      },
      "outputs": [
        {
          "name": "stdout",
          "output_type": "stream",
          "text": [
            "Preprocessed frames shape: (16, 64, 64, 3)\n",
            "\u001b[1m1/1\u001b[0m \u001b[32m━━━━━━━━━━━━━━━━━━━━\u001b[0m\u001b[37m\u001b[0m \u001b[1m0s\u001b[0m 83ms/step\n",
            "Predicted class: 0\n",
            "No anomaly detected. No mail alert sent.\n"
          ]
        }
      ],
      "source": [
        "# Test on new video and trigger alert if anomaly is detected\n",
        "test_video_path = '/content/drive/MyDrive/datasetvideo/abnormal activity/83.mp4'\n",
        "preprocessed_test_video = preprocess_test_video(test_video_path)\n",
        "predicted_class = predict_video_class(preprocessed_test_video)\n",
        "\n",
        "if predicted_class == 1:\n",
        "    send_mail()\n",
        "    print(\"Anomaly detected! Mail alert sent.\")\n",
        "else:\n",
        "    print(\"No anomaly detected. No mail alert sent.\")"
      ]
    },
    {
      "cell_type": "code",
      "execution_count": null,
      "metadata": {
        "id": "7SbkNVWp25ke"
      },
      "outputs": [],
      "source": []
    }
  ],
  "metadata": {
    "colab": {
      "provenance": []
    },
    "kernelspec": {
      "display_name": "Python 3",
      "name": "python3"
    }
  },
  "nbformat": 4,
  "nbformat_minor": 0
}